{
 "cells": [
  {
   "cell_type": "code",
   "execution_count": 87,
   "id": "republican-virginia",
   "metadata": {},
   "outputs": [],
   "source": [
    "import pandas as pd\n",
    "import numpy as np\n",
    "import csv"
   ]
  },
  {
   "cell_type": "code",
   "execution_count": 88,
   "id": "dimensional-electric",
   "metadata": {},
   "outputs": [],
   "source": [
    "train_data = pd.read_csv('./ANERCorp_CamelLab_train.txt',  delim_whitespace=True, quoting=csv.QUOTE_NONE)\n",
    "test_data = pd.read_csv('./ANERCorp_CamelLab_test.txt',  delim_whitespace=True, quoting=csv.QUOTE_NONE)"
   ]
  },
  {
   "cell_type": "code",
   "execution_count": 89,
   "id": "forced-bowling",
   "metadata": {},
   "outputs": [],
   "source": [
    "train_data.columns = ['word', 'label']\n",
    "test_data.columns = ['word', 'label']"
   ]
  },
  {
   "cell_type": "code",
   "execution_count": 90,
   "id": "fossil-authority",
   "metadata": {},
   "outputs": [
    {
     "data": {
      "text/html": [
       "<div>\n",
       "<style scoped>\n",
       "    .dataframe tbody tr th:only-of-type {\n",
       "        vertical-align: middle;\n",
       "    }\n",
       "\n",
       "    .dataframe tbody tr th {\n",
       "        vertical-align: top;\n",
       "    }\n",
       "\n",
       "    .dataframe thead th {\n",
       "        text-align: right;\n",
       "    }\n",
       "</style>\n",
       "<table border=\"1\" class=\"dataframe\">\n",
       "  <thead>\n",
       "    <tr style=\"text-align: right;\">\n",
       "      <th></th>\n",
       "      <th>word</th>\n",
       "      <th>label</th>\n",
       "    </tr>\n",
       "  </thead>\n",
       "  <tbody>\n",
       "    <tr>\n",
       "      <th>0</th>\n",
       "      <td>(د</td>\n",
       "      <td>O</td>\n",
       "    </tr>\n",
       "    <tr>\n",
       "      <th>1</th>\n",
       "      <td>ب</td>\n",
       "      <td>O</td>\n",
       "    </tr>\n",
       "    <tr>\n",
       "      <th>2</th>\n",
       "      <td>أ)</td>\n",
       "      <td>O</td>\n",
       "    </tr>\n",
       "    <tr>\n",
       "      <th>3</th>\n",
       "      <td>أعلن</td>\n",
       "      <td>O</td>\n",
       "    </tr>\n",
       "    <tr>\n",
       "      <th>4</th>\n",
       "      <td>اتحاد</td>\n",
       "      <td>B-ORG</td>\n",
       "    </tr>\n",
       "  </tbody>\n",
       "</table>\n",
       "</div>"
      ],
      "text/plain": [
       "    word  label\n",
       "0     (د      O\n",
       "1      ب      O\n",
       "2     أ)      O\n",
       "3   أعلن      O\n",
       "4  اتحاد  B-ORG"
      ]
     },
     "execution_count": 90,
     "metadata": {},
     "output_type": "execute_result"
    }
   ],
   "source": [
    "train_data.head()"
   ]
  },
  {
   "cell_type": "code",
   "execution_count": 91,
   "id": "sublime-basics",
   "metadata": {
    "scrolled": true
   },
   "outputs": [
    {
     "data": {
      "text/html": [
       "<div>\n",
       "<style scoped>\n",
       "    .dataframe tbody tr th:only-of-type {\n",
       "        vertical-align: middle;\n",
       "    }\n",
       "\n",
       "    .dataframe tbody tr th {\n",
       "        vertical-align: top;\n",
       "    }\n",
       "\n",
       "    .dataframe thead th {\n",
       "        text-align: right;\n",
       "    }\n",
       "</style>\n",
       "<table border=\"1\" class=\"dataframe\">\n",
       "  <thead>\n",
       "    <tr style=\"text-align: right;\">\n",
       "      <th></th>\n",
       "      <th>word</th>\n",
       "      <th>label</th>\n",
       "    </tr>\n",
       "  </thead>\n",
       "  <tbody>\n",
       "    <tr>\n",
       "      <th>0</th>\n",
       "      <td>المفرق</td>\n",
       "      <td>B-LOC</td>\n",
       "    </tr>\n",
       "    <tr>\n",
       "      <th>1</th>\n",
       "      <td>-</td>\n",
       "      <td>O</td>\n",
       "    </tr>\n",
       "    <tr>\n",
       "      <th>2</th>\n",
       "      <td>غيث</td>\n",
       "      <td>B-PERS</td>\n",
       "    </tr>\n",
       "    <tr>\n",
       "      <th>3</th>\n",
       "      <td>الطراونة</td>\n",
       "      <td>I-PERS</td>\n",
       "    </tr>\n",
       "    <tr>\n",
       "      <th>4</th>\n",
       "      <td>-</td>\n",
       "      <td>O</td>\n",
       "    </tr>\n",
       "  </tbody>\n",
       "</table>\n",
       "</div>"
      ],
      "text/plain": [
       "       word   label\n",
       "0    المفرق   B-LOC\n",
       "1         -       O\n",
       "2       غيث  B-PERS\n",
       "3  الطراونة  I-PERS\n",
       "4         -       O"
      ]
     },
     "execution_count": 91,
     "metadata": {},
     "output_type": "execute_result"
    }
   ],
   "source": [
    "test_data.head()"
   ]
  },
  {
   "cell_type": "code",
   "execution_count": 92,
   "id": "blocked-strategy",
   "metadata": {},
   "outputs": [
    {
     "data": {
      "text/plain": [
       "(125101, 2)"
      ]
     },
     "execution_count": 92,
     "metadata": {},
     "output_type": "execute_result"
    }
   ],
   "source": [
    "train_data.shape"
   ]
  },
  {
   "cell_type": "code",
   "execution_count": 93,
   "id": "several-craft",
   "metadata": {},
   "outputs": [
    {
     "data": {
      "text/plain": [
       "(25007, 2)"
      ]
     },
     "execution_count": 93,
     "metadata": {},
     "output_type": "execute_result"
    }
   ],
   "source": [
    "test_data.shape"
   ]
  },
  {
   "cell_type": "code",
   "execution_count": 94,
   "id": "mobile-canyon",
   "metadata": {},
   "outputs": [
    {
     "data": {
      "text/plain": [
       "array(['O', 'B-ORG', 'I-ORG', 'B-LOC', 'B-PERS', 'I-PERS', 'I-LOC',\n",
       "       'B-MISC', 'I-MISC'], dtype=object)"
      ]
     },
     "execution_count": 94,
     "metadata": {},
     "output_type": "execute_result"
    }
   ],
   "source": [
    "train_data.label.unique()"
   ]
  },
  {
   "cell_type": "code",
   "execution_count": 95,
   "id": "alike-study",
   "metadata": {},
   "outputs": [],
   "source": [
    "def porocessing_person(data):\n",
    "    data = data.dropna()\\\n",
    "                .replace('I-ORG', 'PERSON')\\\n",
    "                .replace('B-ORG', 'PERSON')\n",
    "    other_labels = data[data['label']!='PERSON'].label.unique()\n",
    "    data.label = data.label.replace(other_labels,'O')\n",
    "    return data"
   ]
  },
  {
   "cell_type": "code",
   "execution_count": 96,
   "id": "revolutionary-manner",
   "metadata": {},
   "outputs": [],
   "source": [
    "train_data = porocessing_person(train_data)"
   ]
  },
  {
   "cell_type": "code",
   "execution_count": 97,
   "id": "oriental-doctrine",
   "metadata": {},
   "outputs": [
    {
     "data": {
      "text/plain": [
       "array(['O', 'PERSON'], dtype=object)"
      ]
     },
     "execution_count": 97,
     "metadata": {},
     "output_type": "execute_result"
    }
   ],
   "source": [
    "train_data.label.unique()"
   ]
  },
  {
   "cell_type": "code",
   "execution_count": 98,
   "id": "whole-cedar",
   "metadata": {},
   "outputs": [
    {
     "data": {
      "text/plain": [
       "(125101, 2)"
      ]
     },
     "execution_count": 98,
     "metadata": {},
     "output_type": "execute_result"
    }
   ],
   "source": [
    "train_data.shape"
   ]
  },
  {
   "cell_type": "code",
   "execution_count": 99,
   "id": "fatal-macro",
   "metadata": {},
   "outputs": [],
   "source": [
    "test_data = porocessing_person(test_data)"
   ]
  },
  {
   "cell_type": "code",
   "execution_count": 100,
   "id": "bulgarian-installation",
   "metadata": {},
   "outputs": [
    {
     "data": {
      "text/plain": [
       "array(['O', 'PERSON'], dtype=object)"
      ]
     },
     "execution_count": 100,
     "metadata": {},
     "output_type": "execute_result"
    }
   ],
   "source": [
    "test_data.label.unique()"
   ]
  },
  {
   "cell_type": "code",
   "execution_count": 12,
   "id": "premier-veteran",
   "metadata": {},
   "outputs": [],
   "source": [
    "test_data.to_csv('org_test', sep=\" \", header=False, index=False)"
   ]
  },
  {
   "cell_type": "code",
   "execution_count": 13,
   "id": "persistent-source",
   "metadata": {},
   "outputs": [],
   "source": [
    "train_data.to_csv('org_train', sep=\" \", header=False, index=False)"
   ]
  }
 ],
 "metadata": {
  "kernelspec": {
   "display_name": "Python 3",
   "language": "python",
   "name": "python3"
  },
  "language_info": {
   "codemirror_mode": {
    "name": "ipython",
    "version": 3
   },
   "file_extension": ".py",
   "mimetype": "text/x-python",
   "name": "python",
   "nbconvert_exporter": "python",
   "pygments_lexer": "ipython3",
   "version": "3.8.2"
  }
 },
 "nbformat": 4,
 "nbformat_minor": 5
}
